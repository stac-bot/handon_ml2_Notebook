{
  "nbformat": 4,
  "nbformat_minor": 0,
  "metadata": {
    "colab": {
      "name": "hands-on_ml2_ch_1.ipynb",
      "provenance": [],
      "authorship_tag": "ABX9TyNsHoiPxifqXto3AUGv0/RU",
      "include_colab_link": true
    },
    "kernelspec": {
      "name": "python3",
      "display_name": "Python 3"
    },
    "language_info": {
      "name": "python"
    }
  },
  "cells": [
    {
      "cell_type": "markdown",
      "metadata": {
        "id": "view-in-github",
        "colab_type": "text"
      },
      "source": [
        "<a href=\"https://colab.research.google.com/github/stac-bot/handon_ml2_Notebook/blob/master/hands_on_ml2_ch_1.ipynb\" target=\"_parent\"><img src=\"https://colab.research.google.com/assets/colab-badge.svg\" alt=\"Open In Colab\"/></a>"
      ]
    },
    {
      "cell_type": "markdown",
      "source": [
        "<h1>Chapter 1:- The Machine learning Landscape<h1>"
      ],
      "metadata": {
        "id": "GTMrZrhrebw2"
      }
    },
    {
      "cell_type": "markdown",
      "source": [
        "<h2>Example 1-1: from the notebook<h2>"
      ],
      "metadata": {
        "id": "-bcT6eItewwv"
      }
    },
    {
      "cell_type": "code",
      "execution_count": 1,
      "metadata": {
        "id": "YSWgp64HeUlA"
      },
      "outputs": [],
      "source": [
        "#import required lib\n",
        "import sys\n",
        "#The assert statement lets you test for a particular condition in Python\n",
        "assert sys.version_info>=(3,5) "
      ]
    },
    {
      "cell_type": "code",
      "source": [
        "#check the scikit-learn requirements\n",
        "import sklearn \n",
        "assert sklearn.__version__ >=\"0.20\""
      ],
      "metadata": {
        "id": "kaxJdmCxfHJ2"
      },
      "execution_count": 3,
      "outputs": []
    },
    {
      "cell_type": "markdown",
      "source": [
        "<h3>Merge the OECD's life satisfaction data and IMF's GDP per capita data.</h3>"
      ],
      "metadata": {
        "id": "4VsG1MVMf0HS"
      }
    },
    {
      "cell_type": "code",
      "source": [
        "def prepare_country_stats(oecd_bli,gdp_per_capita):\n",
        "  oecd_bli = oecd_bli[oecd_bli[\"INEQUALITY\"]=='TOT']\n",
        "  oecd_bli = oecd_bli.pivot(index=\"Country\", columns = \"Indicator\", values =\"Value\")\n",
        "  gdp_per_capita.rename(columns = {\"2015\":\"GDP per capita\"}, inplace = True)\n",
        "  gdp_per_capita.set_index(\"Country\", inplace=True)\n",
        "  full_country_stats = pd.merge(left=oecd_bli, right=gdp_per_capita,\n",
        "                                left_index = True, right_index =True)\n",
        "  full_country_stats.sort_values(by=\"GDP per capita\", inplace=True)\n",
        "  remove_indices = [0,1,6,8,33,34,35]\n",
        "  keep_indices = list(set(range(36))-set(remove_indices))\n",
        "  return full_country_stats[[\"GDP per capita\", 'Life satisfaction']].iloc[keep_indices]"
      ],
      "metadata": {
        "id": "YsTQmoNZfTO4"
      },
      "execution_count": 39,
      "outputs": []
    },
    {
      "cell_type": "code",
      "source": [
        "#The code in the book expects the data files to be located in the current directory. \n",
        "#I just tweaked it here to fetch the files in datasets/lifesat\n",
        "import os\n",
        "datapath = os.path.join(\"datasets\",\"lifesat\",\"\")"
      ],
      "metadata": {
        "id": "VwI6VL5piNxQ"
      },
      "execution_count": 5,
      "outputs": []
    },
    {
      "cell_type": "code",
      "source": [
        "#to plot pretty figures directly within notebook\n",
        "%matplotlib inline\n",
        "import matplotlib as mpl\n",
        "mpl.rc(\"axes\",labelsize=14)\n",
        "mpl.rc(\"xtick\",labelsize=12)\n",
        "mpl.rc(\"ytick\",labelsize=12)"
      ],
      "metadata": {
        "id": "mAYL9jWTifl5"
      },
      "execution_count": 30,
      "outputs": []
    },
    {
      "cell_type": "code",
      "source": [
        "#Download the data\n",
        "import urllib.request\n",
        "Download_Root = \"https://raw.githubusercontent.com/ageron/handson-ml2/master/\"\n",
        "os.makedirs(datapath,exist_ok=True)\n",
        "for filename in (\"oecd_bli_2015.csv\",\"gdp_per_capita.csv\"):\n",
        "  print(\"Downloading\", filename)\n",
        "  url = Download_Root + \"datasets/lifesat/\" + filename\n",
        "  urllib.request.urlretrieve(url,datapath+filename)\n"
      ],
      "metadata": {
        "colab": {
          "base_uri": "https://localhost:8080/"
        },
        "id": "U0ECzI4OifkF",
        "outputId": "4b0f0cd5-2205-4b9e-ba9f-5e3fd7d4c4a0"
      },
      "execution_count": 31,
      "outputs": [
        {
          "output_type": "stream",
          "name": "stdout",
          "text": [
            "Downloading oecd_bli_2015.csv\n",
            "Downloading gdp_per_capita.csv\n"
          ]
        }
      ]
    },
    {
      "cell_type": "code",
      "source": [
        "import matplotlib.pyplot as plt\n",
        "import numpy as np \n",
        "import pandas as pd\n",
        "import sklearn.linear_model\n",
        "\n",
        "#Load the data \n",
        "oecd_bli = pd.read_csv(datapath+ \"oecd_bli_2015.csv\", thousands = ',')\n",
        "gdp_per_capita = pd.read_csv(datapath + \"gdp_per_capita.csv\", thousands = ',', delimiter = '\\t',\n",
        "                             encoding=\"latin1\", na_values=\"n/a\")\n",
        "\n",
        "#prepare the data\n",
        "country_stats = prepare_country_stats(oecd_bli, gdp_per_capita)\n",
        "x = np.c_[country_stats[\"GDP per capita\"]] \n",
        "#c_ ->Translates slice objects to concatenation along the second axis.\n",
        "y = np.c_[country_stats[\"Life satisfaction\"]]\n",
        "\n",
        "#visualize the data\n",
        "\n",
        "country_stats.plot(kind='scatter', x=\"GDP per capita\", y='Life satisfaction',figsize=(8,7))\n",
        "plt.show()\n",
        "\n",
        "#select a linear model\n",
        "model = sklearn.linear_model.LinearRegression()\n",
        "\n",
        "#train the model\n",
        "model.fit(x,y)\n",
        "\n",
        "#Make a prediction for Cyprus\n",
        "X_new = [[22587]] #cyprus' GDP per capita\n",
        "print(model.predict(X_new))\n",
        "\n"
      ],
      "metadata": {
        "colab": {
          "base_uri": "https://localhost:8080/",
          "height": 466
        },
        "id": "aVpFBFZQifg1",
        "outputId": "4840bf41-1400-4fc2-e9e6-16545f411783"
      },
      "execution_count": 46,
      "outputs": [
        {
          "output_type": "display_data",
          "data": {
            "image/png": "[encoded data removed]",
            "text/plain": [
              "<Figure size 576x504 with 1 Axes>"
            ]
          },
          "metadata": {
            "needs_background": "light"
          }
        },
        {
          "output_type": "stream",
          "name": "stdout",
          "text": [
            "[[5.96242338]]\n"
          ]
        }
      ]
    },
    {
      "cell_type": "markdown",
      "source": [
        "<h3>Replacing the Linear Regression model with k-Nearest Neighbors (in this example, k = 3) regression in the previous code is as simple as replacing these two lines:\n",
        "\n",
        "</h3>"
      ],
      "metadata": {
        "id": "FOYNORPcsnhR"
      }
    },
    {
      "cell_type": "code",
      "source": [
        "#select  a3-Nearest Neighbors regression model\n",
        "import sklearn.neighbors\n",
        "model1= sklearn.neighbors.KNeighborsRegressor(n_neighbors=3)\n",
        "\n",
        "#train the model\n",
        "model1.fit(x,y)\n",
        "\n",
        "#make a prediction for Cyprus\n",
        "print(model1.predict(X_new))"
      ],
      "metadata": {
        "colab": {
          "base_uri": "https://localhost:8080/"
        },
        "id": "KbH0ygkqtSWt",
        "outputId": "0c5df252-b93b-4eb0-b8be-195665d71da9"
      },
      "execution_count": 49,
      "outputs": [
        {
          "output_type": "stream",
          "name": "stdout",
          "text": [
            "[[5.76666667]]\n"
          ]
        }
      ]
    },
    {
      "cell_type": "code",
      "source": [
        "df = pd.read_csv(\"/content/datasets/lifesat/oecd_bli_2015.csv\")\n",
        "df\n",
        "df2 = pd.read_csv(\"/content/datasets/lifesat/gdp_per_capita.csv\",encoding =\"ISO-8859-1\",on_bad_lines='skip')\n",
        "df2"
      ],
      "metadata": {
        "id": "K3XjRavSifdB"
      },
      "execution_count": null,
      "outputs": []
    },
    {
      "cell_type": "code",
      "source": [
        ""
      ],
      "metadata": {
        "id": "_1nOCHLdifbd"
      },
      "execution_count": null,
      "outputs": []
    },
    {
      "cell_type": "code",
      "source": [
        ""
      ],
      "metadata": {
        "id": "XZC6IKxBifX-"
      },
      "execution_count": null,
      "outputs": []
    },
    {
      "cell_type": "code",
      "source": [
        ""
      ],
      "metadata": {
        "id": "MMRPreHRifVO"
      },
      "execution_count": null,
      "outputs": []
    }
  ]
}